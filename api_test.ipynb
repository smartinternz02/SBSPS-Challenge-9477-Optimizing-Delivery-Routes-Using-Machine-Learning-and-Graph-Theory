{
 "cells": [
  {
   "cell_type": "code",
   "execution_count": 4,
   "metadata": {},
   "outputs": [
    {
     "name": "stdout",
     "output_type": "stream",
     "text": [
      "{\"Results\":[{\"Relevance\":0.9708,\"longitude\":76.95587117264861,\"latitude\":11.000067308017197,\"address\":\"Sukrawarpet Street, Town Hall, Coimbatore, Tamil Nadu, 641001, India\",\"street\":\"Sukrawarpet Street\",\"city\":\"Coimbatore\",\"subregion\":\"Coimbatore\",\"country\":\"India\",\"postalcode\":\"641001\"},{\"Relevance\":0.8663,\"longitude\":76.94994674951523,\"latitude\":10.99021190300051,\"address\":\"641001, Sukirawanpet, Coimbatore, Tamil Nadu, India\",\"city\":\"Coimbatore\",\"subregion\":\"Coimbatore\",\"country\":\"India\",\"postalcode\":\"641001\"},{\"Relevance\":0.85,\"longitude\":76.96218505315213,\"latitude\":11.001259576625877,\"address\":\"Sukrawarpet Street, Ram Nagar, Coimbatore, Tamil Nadu, 641009, India\",\"street\":\"Sukrawarpet Street\",\"city\":\"Coimbatore\",\"subregion\":\"Coimbatore\",\"country\":\"India\",\"postalcode\":\"641009\"},{\"Relevance\":0.85,\"longitude\":76.95209713083185,\"latitude\":10.99965544769515,\"address\":\"Sukrawarpet Street, R.S. Puram, Coimbatore, Tamil Nadu, 641002, India\",\"street\":\"Sukrawarpet Street\",\"city\":\"Coimbatore\",\"subregion\":\"Coimbatore\",\"country\":\"India\",\"postalcode\":\"641002\"},{\"Relevance\":0.85,\"longitude\":76.95959018333865,\"latitude\":11.000647309606526,\"address\":\"Sukrawarpet Street, Coimbatore North, Coimbatore, Tamil Nadu, 641002, India\",\"street\":\"Sukrawarpet Street\",\"city\":\"Coimbatore\",\"subregion\":\"Coimbatore\",\"country\":\"India\",\"postalcode\":\"641002\"}]}\n"
     ]
    }
   ],
   "source": [
    "import requests\n",
    "\n",
    "url = \"https://address-from-to-latitude-longitude.p.rapidapi.com/geolocationapi\"\n",
    "\n",
    "querystring = {\"address\":\"215, sukrawarpet street, coimbatore, 641001\"}\n",
    "\n",
    "headers = {\n",
    "\t\"X-RapidAPI-Key\": \"954bd9e800mshf505c10f126c98dp193b7cjsnf78c048d56c5\",\n",
    "\t\"X-RapidAPI-Host\": \"address-from-to-latitude-longitude.p.rapidapi.com\"\n",
    "}\n",
    "\n",
    "response = requests.request(\"GET\", url, headers=headers, params=querystring)\n",
    "\n",
    "print(response.text)"
   ]
  }
 ],
 "metadata": {
  "kernelspec": {
   "display_name": "Python 3.10.5 64-bit",
   "language": "python",
   "name": "python3"
  },
  "language_info": {
   "codemirror_mode": {
    "name": "ipython",
    "version": 3
   },
   "file_extension": ".py",
   "mimetype": "text/x-python",
   "name": "python",
   "nbconvert_exporter": "python",
   "pygments_lexer": "ipython3",
   "version": "3.10.5"
  },
  "orig_nbformat": 4,
  "vscode": {
   "interpreter": {
    "hash": "67506b106730bf0982c7d2096c8958ab28c71a249c4881ffcdc31e75eee2e243"
   }
  }
 },
 "nbformat": 4,
 "nbformat_minor": 2
}
