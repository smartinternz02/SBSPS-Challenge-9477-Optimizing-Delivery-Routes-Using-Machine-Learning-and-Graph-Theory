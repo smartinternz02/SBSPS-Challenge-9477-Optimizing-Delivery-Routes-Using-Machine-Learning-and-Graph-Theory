{
 "cells": [
  {
   "cell_type": "code",
   "execution_count": null,
   "metadata": {},
   "outputs": [],
   "source": [
    "import requests\n",
    "\n",
    "url = \"https://address-from-to-latitude-longitude.p.rapidapi.com/geolocationapi\"\n",
    "\n",
    "querystring = {\"address\":\"silver crest apartmnet, coimbatore\"}\n",
    "\n",
    "headers = {\n",
    "\t\"X-RapidAPI-Key\": \"954bd9e800mshf505c10f126c98dp193b7cjsnf78c048d56c5\",\n",
    "\t\"X-RapidAPI-Host\": \"address-from-to-latitude-longitude.p.rapidapi.com\"\n",
    "}\n",
    "\n",
    "response = requests.request(\"GET\", url, headers=headers, params=querystring)\n",
    "\n",
    "print(response.text)"
   ]
  },
  {
   "cell_type": "code",
   "execution_count": 26,
   "metadata": {},
   "outputs": [
    {
     "name": "stdout",
     "output_type": "stream",
     "text": [
      "{'Relevance': 0.82, 'longitude': 76.94457000000006, 'latitude': 11.020200000000045, 'address': 'Silver Crest, 2nd Cross Road, Saibaba Colony, Coimbatore, Tamil Nadu, 641011, India', 'street': '2nd Cross Road', 'city': 'Coimbatore', 'subregion': 'Coimbatore', 'country': 'India', 'postalcode': '641011'}\n"
     ]
    }
   ],
   "source": [
    "import json\n",
    "test = json.loads(response.text)[\"Results\"][0]\n",
    "print(test)"
   ]
  },
  {
   "cell_type": "code",
   "execution_count": 15,
   "metadata": {},
   "outputs": [],
   "source": [
    "import json\n",
    "with open('data.json', 'w') as fp:\n",
    "    fp.write(response.text)"
   ]
  },
  {
   "cell_type": "code",
   "execution_count": null,
   "metadata": {},
   "outputs": [],
   "source": [
    "import"
   ]
  }
 ],
 "metadata": {
  "kernelspec": {
   "display_name": "Python 3.10.5 64-bit",
   "language": "python",
   "name": "python3"
  },
  "language_info": {
   "codemirror_mode": {
    "name": "ipython",
    "version": 3
   },
   "file_extension": ".py",
   "mimetype": "text/x-python",
   "name": "python",
   "nbconvert_exporter": "python",
   "pygments_lexer": "ipython3",
   "version": "3.10.5"
  },
  "orig_nbformat": 4,
  "vscode": {
   "interpreter": {
    "hash": "67506b106730bf0982c7d2096c8958ab28c71a249c4881ffcdc31e75eee2e243"
   }
  }
 },
 "nbformat": 4,
 "nbformat_minor": 2
}
