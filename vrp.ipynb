{
 "cells": [
  {
   "cell_type": "code",
   "execution_count": 1,
   "metadata": {},
   "outputs": [],
   "source": [
    "from pulp import *\n",
    "import numpy as np\n",
    "import pandas as pd\n",
    "import matplotlib.pyplot as plt\n",
    "%matplotlib inline\n",
    "import seaborn as sn"
   ]
  },
  {
   "cell_type": "code",
   "execution_count": null,
   "metadata": {},
   "outputs": [],
   "source": [
    "#a handful of sites\n",
    "sites = ['Barcelona','Belgrade','Berlin','Brussels','Bucharest','Budapest','Copenhagen','Dublin','Hamburg','Istanbul','Kiev','London','Madrid','Milan','Moscow','Munich','Paris','Prague','Rome','Saint Petersburg','Sofia','Stockholm','Vienna','Warsaw']\n",
    "# sites = ['Barcelona','Belgrade','Berlin','Brussels','Bucharest','Budapest','Copenhagen']\n",
    "latlng = ['latitude', 'longitude']\n",
    "position = pd.read_csv('./data/position.csv', index_col=\"City\")\n",
    "flighttime = pd.read_csv('./data/flight_time.csv', index_col=\"City\")\n",
    "distance = pd.read_csv('./data/distance.csv', index_col=\"City\")\n",
    "position.head(5)\n",
    "# print(len(sites))"
   ]
  },
  {
   "cell_type": "code",
   "execution_count": 3,
   "metadata": {},
   "outputs": [
    {
     "name": "stdout",
     "output_type": "stream",
     "text": [
      "{'Barcelona': (2.159, 41.3888), 'Belgrade': (20.4651, 44.804), 'Berlin': (13.4105, 52.5244), 'Brussels': (4.3488, 50.8505), 'Bucharest': (26.1063, 44.4323), 'Budapest': (19.0399, 47.498), 'Copenhagen': (12.5655, 55.6759), 'Dublin': (-6.2489, 53.3331), 'Hamburg': (10.0153, 53.5753), 'Istanbul': (28.9497, 41.0138), 'Kiev': (30.5238, 50.4547), 'London': (-0.1257, 51.5085), 'Madrid': (-3.7026, 40.4165), 'Milan': (12.1728, 45.5928), 'Moscow': (37.6156, 55.7522), 'Munich': (11.5755, 48.1374), 'Paris': (2.3488, 48.8534), 'Prague': (14.4208, 50.088), 'Rome': (12.5113, 41.8919), 'Saint Petersburg': (30.3141, 59.9386), 'Sofia': (23.3241, 42.6975), 'Stockholm': (18.0649, 59.3326), 'Vienna': (16.3721, 48.2085), 'Warsaw': (21.0118, 52.2298)}\n"
     ]
    }
   ],
   "source": [
    "#make some positions (so we can plot this)\n",
    "positions = dict( ( city, (position.loc[city, 'longitude'], position.loc[city, 'latitude']) ) for city in sites)\n",
    "print(positions)"
   ]
  },
  {
   "cell_type": "code",
   "execution_count": 4,
   "metadata": {},
   "outputs": [
    {
     "data": {
      "image/png": "[encoded data removed]",
      "text/plain": [
       "<Figure size 432x288 with 1 Axes>"
      ]
     },
     "metadata": {
      "needs_background": "light"
     },
     "output_type": "display_data"
    }
   ],
   "source": [
    "for s in positions:\n",
    "    p = positions[s]\n",
    "    plt.plot(p[0],p[1],'o')\n",
    "    plt.text(p[0]+.01,p[1],s,horizontalalignment='left',verticalalignment='center')\n",
    "    \n",
    "plt.gca().axis('off');"
   ]
  },
  {
   "cell_type": "code",
   "execution_count": 6,
   "metadata": {},
   "outputs": [],
   "source": [
    "# get distanc between cities\n",
    "distances = dict( ((s1,s2), distance.loc[s1, s2] ) for s1 in positions for s2 in positions if s1!=s2)\n",
    "# print(distances)"
   ]
  },
  {
   "cell_type": "markdown",
   "metadata": {},
   "source": [
    "## The model\n",
    "\n",
    "With a few modifications, the original traveling salesman problem can support multiple salesman. Instead of making each facility only be visited once, the origin facility will be visited multiple times. If we have two salesman then the origin is visited exactly twice and so on.\n",
    "\n",
    "For **K** vehicles or sales people:\n",
    "\n",
    "### Variables:\n",
    "\n",
    "$x_{ij}=\n",
    "\\begin{cases}\n",
    "1: \\text{the path goes from city i to j}\\\\\n",
    "0: \\text{otherwise}\n",
    "\\end{cases}$\n",
    "\n",
    "### order dummy variables:\n",
    "\n",
    "$u_i - u_j + C*x_{ij} \\leq C - d_j, C = N/K$\n",
    "$\\begin{cases}\n",
    "u_i: \\text{order that site i is visited}\\\\\n",
    "d_j: \\text{the cost to visit city j}, 0 \\leq u_i \\leq C - d_j, \\forall i \\in V \\setminus \\{0\\}\n",
    "\\end{cases}$\n",
    "\n",
    "### Goal:\n",
    "\n",
    "$min\\sum_{i=0}^{n}\\sum_{j\\neq{i}, j=0}^{n}{c_{ij}}{x_{ij}}$\n",
    "$\\begin{cases}\n",
    "c_{ij}: \\text{distance from city i to city j}\\\\\n",
    "x_{ij}: \\text{whether there's a path between i and j}\n",
    "\\end{cases}$\n",
    "\n",
    "### Constraints:\n",
    "\n",
    "$\\sum_{i\\in{V}}{x_{ij} = 1}, \\forall j \\in V \\setminus \\{0\\}$\n",
    "\n",
    "$\\sum_{j\\in{V}}{x_{ij} = 1}, \\forall i \\in V \\setminus \\{0\\}$\n",
    "\n",
    "$\\sum_{i\\in{V}}{x_{i0} = K}$\n",
    "\n",
    "$\\sum_{j\\in{V}}{x_{0j} = K}$"
   ]
  },
  {
   "cell_type": "code",
   "execution_count": 7,
   "metadata": {},
   "outputs": [],
   "source": [
    "K = 4 #the number of sales people "
   ]
  },
  {
   "cell_type": "code",
   "execution_count": 8,
   "metadata": {},
   "outputs": [],
   "source": [
    "#create the problme\n",
    "prob=LpProblem(\"vehicle\", LpMinimize)"
   ]
  },
  {
   "cell_type": "code",
   "execution_count": 9,
   "metadata": {},
   "outputs": [],
   "source": [
    "#indicator variable if site i is connected to site j in the tour\n",
    "x = LpVariable.dicts('x',distances, 0,1,LpBinary)\n",
    "#dummy vars to eliminate subtours\n",
    "u = LpVariable.dicts('u', sites, 0, len(sites)-1, LpInteger)"
   ]
  },
  {
   "cell_type": "code",
   "execution_count": 10,
   "metadata": {},
   "outputs": [],
   "source": [
    "#the objective\n",
    "cost = lpSum([x[(i,j)]*distances[(i,j)] for (i,j) in distances])\n",
    "prob+=cost"
   ]
  },
  {
   "cell_type": "code",
   "execution_count": 11,
   "metadata": {},
   "outputs": [],
   "source": [
    "#constraints\n",
    "for k in sites:\n",
    "    cap = 1 if k != 'Berlin' else K\n",
    "    #inbound connection\n",
    "    prob+= lpSum([ x[(i,k)] for i in sites if (i,k) in x]) ==cap\n",
    "    #outbound connection\n",
    "    prob+=lpSum([ x[(k,i)] for i in sites if (k,i) in x]) ==cap\n",
    "    \n",
    "#subtour elimination\n",
    "N=len(sites)/K\n",
    "for i in sites:\n",
    "    for j in sites:\n",
    "        if i != j and (i != 'Berlin' and j!= 'Berlin') and (i,j) in x:\n",
    "            prob += u[i] - u[j] <= (N)*(1-x[(i,j)]) - 1"
   ]
  },
  {
   "cell_type": "markdown",
   "metadata": {},
   "source": [
    "Solve it!"
   ]
  },
  {
   "cell_type": "code",
   "execution_count": 12,
   "metadata": {},
   "outputs": [],
   "source": [
    "%time prob.solve()\n",
    "#prob.solve(GLPK_CMD(options=['--simplex']))\n",
    "print(LpStatus[prob.status])"
   ]
  },
  {
   "cell_type": "code",
   "execution_count": 19,
   "metadata": {},
   "outputs": [],
   "source": [
    "non_zero_edges = [ e for e in x if value(x[e]) != 0 ]\n",
    "\n",
    "def get_next_site(parent):\n",
    "    '''helper function to get the next edge'''\n",
    "    edges = [e for e in non_zero_edges if e[0]==parent]\n",
    "    for e in edges:\n",
    "        non_zero_edges.remove(e)\n",
    "    return edges"
   ]
  },
  {
   "cell_type": "code",
   "execution_count": 22,
   "metadata": {},
   "outputs": [],
   "source": [
    "tours = get_next_site('Berlin')\n",
    "tours = [ [e] for e in tours ]\n",
    "\n",
    "for t in tours:\n",
    "    while t[-1][1] !='Berlin':\n",
    "        t.append(get_next_site(t[-1][1])[-1])"
   ]
  },
  {
   "cell_type": "markdown",
   "metadata": {},
   "source": [
    "The optimal route:"
   ]
  },
  {
   "cell_type": "code",
   "execution_count": 25,
   "metadata": {},
   "outputs": [],
   "source": [
    "for t in tours:\n",
    "    print(' -> '.join([ a for a,b in t]+['Berlin']))"
   ]
  },
  {
   "cell_type": "markdown",
   "metadata": {},
   "source": [
    "Calculate total time:"
   ]
  },
  {
   "cell_type": "code",
   "execution_count": 26,
   "metadata": {},
   "outputs": [
    {
     "name": "stdout",
     "output_type": "stream",
     "text": [
      "0\n"
     ]
    }
   ],
   "source": [
    "totalTime = 0;\n",
    "for t in tours:\n",
    "    time = 0\n",
    "    for i in range(0, len(t)):\n",
    "        time += flighttime.loc[t[i][0], t[i][1]]\n",
    "#         print(flighttime.loc[t[i][0], t[i][1]])\n",
    "#     print(time)\n",
    "    if time > totalTime:\n",
    "        totalTime = time\n",
    "print(totalTime)"
   ]
  },
  {
   "cell_type": "code",
   "execution_count": 27,
   "metadata": {},
   "outputs": [
    {
     "data": {
      "image/png": "[encoded data removed]",
      "text/plain": [
       "<Figure size 432x288 with 1 Axes>"
      ]
     },
     "metadata": {
      "needs_background": "light"
     },
     "output_type": "display_data"
    }
   ],
   "source": [
    "#draw the tours\n",
    "colors = [np.random.rand(3) for i in range(len(tours))]\n",
    "for t,c in zip(tours,colors):\n",
    "    for a,b in t:\n",
    "        p1,p2 = positions[a], positions[b]\n",
    "        plt.plot([p1[0],p2[0]],[p1[1],p2[1]], color=c)\n",
    "\n",
    "#draw the map again\n",
    "for s in positions:\n",
    "    p = positions[s]\n",
    "    plt.plot(p[0],p[1],'o')\n",
    "    plt.text(p[0]+.01,p[1],s,horizontalalignment='left',verticalalignment='center')\n",
    "    \n",
    "plt.title('%d '%K + 'people' if K > 1 else 'person')\n",
    "plt.xlabel('latitude')\n",
    "plt.ylabel('longitude')\n",
    "# plt.gca().axis('off')\n",
    "plt.show()"
   ]
  },
  {
   "cell_type": "code",
   "execution_count": 28,
   "metadata": {},
   "outputs": [
    {
     "name": "stdout",
     "output_type": "stream",
     "text": [
      "Longest time spent: 0 (min)\n",
      "Total distance: 12607.64 (km)\n"
     ]
    }
   ],
   "source": [
    "print('Longest time spent:', totalTime, '(min)')\n",
    "print('Total distance:', value(prob.objective), '(km)')"
   ]
  },
  {
   "cell_type": "code",
   "execution_count": null,
   "metadata": {},
   "outputs": [],
   "source": []
  }
 ],
 "metadata": {
  "kernelspec": {
   "display_name": "Python 3.10.5 64-bit",
   "language": "python",
   "name": "python3"
  },
  "language_info": {
   "codemirror_mode": {
    "name": "ipython",
    "version": 3
   },
   "file_extension": ".py",
   "mimetype": "text/x-python",
   "name": "python",
   "nbconvert_exporter": "python",
   "pygments_lexer": "ipython3",
   "version": "3.10.5"
  },
  "vscode": {
   "interpreter": {
    "hash": "67506b106730bf0982c7d2096c8958ab28c71a249c4881ffcdc31e75eee2e243"
   }
  }
 },
 "nbformat": 4,
 "nbformat_minor": 2
}
