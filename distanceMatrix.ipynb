{
 "cells": [
  {
   "cell_type": "code",
   "execution_count": null,
   "metadata": {},
   "outputs": [],
   "source": [
    "import pandas as pd\n"
   ]
  },
  {
   "cell_type": "code",
   "execution_count": null,
   "metadata": {},
   "outputs": [],
   "source": [
    "import requests\n",
    "import pandas as pd\n",
    "\n",
    "url = 'https://www.mapcrow.info/united_states.html'\n",
    "html = requests.get(url).content\n",
    "df_list = pd.read_html(html)\n",
    "df = df_list[-1]\n",
    "print(df)\n",
    "df.to_csv('my data.csv')\n"
   ]
  },
  {
   "cell_type": "code",
   "execution_count": null,
   "metadata": {},
   "outputs": [],
   "source": [
    "df = pd.read_csv(\"my data.csv\")\n",
    "df.head()"
   ]
  },
  {
   "cell_type": "code",
   "execution_count": null,
   "metadata": {},
   "outputs": [],
   "source": [
    "import requests\n",
    "\n",
    "body = {\"locations\":[[9.70093,48.477473],[9.207916,49.153868],[37.573242,55.801281],[115.663757,38.106467]],\"units\":\"mi\"}\n",
    "\n",
    "headers = {\n",
    "    'Accept': 'application/json, application/geo+json, application/gpx+xml, img/png; charset=utf-8',\n",
    "    'Authorization': '5b3ce3597851110001cf62489ebebb576d5f468d914755e3f36e9829',\n",
    "    'Content-Type': 'application/json; charset=utf-8'\n",
    "}\n",
    "call = requests.post('https://api.openrouteservice.org/v2/matrix/driving-car', json=body, headers=headers)\n",
    "\n",
    "print(call.status_code, call.reason)\n",
    "print(call.text)"
   ]
  },
  {
   "cell_type": "code",
   "execution_count": 23,
   "metadata": {},
   "outputs": [
    {
     "name": "stdout",
     "output_type": "stream",
     "text": [
      "<class 'list'>\n"
     ]
    }
   ],
   "source": [
    "import json\n",
    "\n",
    "dict = json.loads(call.text)\n",
    "\n",
    "print(type(dict['durations']))"
   ]
  },
  {
   "cell_type": "code",
   "execution_count": 24,
   "metadata": {},
   "outputs": [
    {
     "name": "stdout",
     "output_type": "stream",
     "text": [
      "           0          1          2          3\n",
      "0       0.00    5789.37   90465.38  396837.69\n",
      "1    5677.98       0.00   89245.66  395617.97\n",
      "2   90564.72   88986.82       0.00  310247.44\n",
      "3  396082.72  394504.81  309387.13       0.00\n"
     ]
    }
   ],
   "source": [
    "df = pd.DataFrame(dict['durations'])\n",
    "print(df)"
   ]
  },
  {
   "cell_type": "code",
   "execution_count": null,
   "metadata": {},
   "outputs": [],
   "source": [
    "import requests\n",
    "\n",
    "body = {\"jobs\": [{\"id\": 1, \"service\": 300, \"amount\": [1], \"location\":[1.98935, 48.701], \"skills\":[1], \"time_windows\":[[32400, 36000]]}, {\"id\": 2, \"service\": 300, \"amount\": [1], \"location\":[2.03655, 48.61128], \"skills\":[1]}, {\"id\": 3, \"service\": 300, \"amount\": [1], \"location\":[2.39719, 49.07611], \"skills\":[2]}, {\"id\": 4, \"service\": 300, \"amount\": [1], \"location\":[2.41808, 49.22619], \"skills\":[2]}, {\"id\": 5, \"service\": 300, \"amount\": [1], \"location\":[\n",
    "    2.28325, 48.5958], \"skills\":[14]}, {\"id\": 6, \"service\": 300, \"amount\": [1], \"location\":[2.89357, 48.90736], \"skills\":[14]}], \"vehicles\": [{\"id\": 1, \"profile\": \"driving-car\", \"start\": [2.35044, 48.71764], \"end\":[2.35044, 48.71764], \"capacity\":[4], \"skills\":[1, 14], \"time_window\":[28800, 43200]}]}\n",
    "\n",
    "headers = {\n",
    "    'Accept': 'application/json, application/geo+json, application/gpx+xml, img/png; charset=utf-8',\n",
    "    'Authorization': '5b3ce3597851110001cf62489ebebb576d5f468d914755e3f36e9829',\n",
    "    'Content-Type': 'application/json; charset=utf-8'\n",
    "}\n",
    "call = requests.post(\n",
    "    'https://api.openrouteservice.org/optimization', json=body, headers=headers)\n",
    "\n",
    "print(call.status_code, call.reason)\n",
    "print(call.text)\n"
   ]
  },
  {
   "cell_type": "code",
   "execution_count": 6,
   "metadata": {},
   "outputs": [],
   "source": [
    "import json\n",
    "\n",
    "with open(\"sample.json\", \"w\") as outfile:\n",
    "    outfile.write(call.text)"
   ]
  },
  {
   "cell_type": "code",
   "execution_count": null,
   "metadata": {},
   "outputs": [],
   "source": []
  }
 ],
 "metadata": {
  "kernelspec": {
   "display_name": "Python 3.10.5 64-bit",
   "language": "python",
   "name": "python3"
  },
  "language_info": {
   "codemirror_mode": {
    "name": "ipython",
    "version": 3
   },
   "file_extension": ".py",
   "mimetype": "text/x-python",
   "name": "python",
   "nbconvert_exporter": "python",
   "pygments_lexer": "ipython3",
   "version": "3.10.5"
  },
  "orig_nbformat": 4,
  "vscode": {
   "interpreter": {
    "hash": "67506b106730bf0982c7d2096c8958ab28c71a249c4881ffcdc31e75eee2e243"
   }
  }
 },
 "nbformat": 4,
 "nbformat_minor": 2
}
